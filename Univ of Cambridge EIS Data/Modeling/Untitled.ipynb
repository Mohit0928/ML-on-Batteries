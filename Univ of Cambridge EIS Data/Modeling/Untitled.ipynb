{
 "cells": [
  {
   "cell_type": "code",
   "execution_count": 197,
   "metadata": {},
   "outputs": [],
   "source": [
    "from impedance import preprocessing\n",
    "import numpy as np\n",
    "import pandas as pd\n",
    "\n",
    "# df=pd.read_csv(\"EIS_state_I_25C01-Copy1.txt\",delimiter=\"\\t\",usecols=[0,1,2,3,4,5,6],skiprows=[0],names=[\"time\",\"cycle number\",\"freq\",\"Re(Z)\",\"-Im(Z)\",\"Z\",\"Phase(Z)\"])\n"
   ]
  },
  {
   "cell_type": "code",
   "execution_count": 241,
   "metadata": {},
   "outputs": [],
   "source": [
    "Zeq=[]"
   ]
  },
  {
   "cell_type": "code",
   "execution_count": 242,
   "metadata": {},
   "outputs": [],
   "source": [
    "df=np.genfromtxt(\"EIS_state_V_25C01.txt\",delimiter=\"\\t\")\n",
    "freq=df[:,2][df[:,1]==2]\n",
    "fr,Z = preprocessing.readCSV('./exampleData.csv')"
   ]
  },
  {
   "cell_type": "code",
   "execution_count": 104,
   "metadata": {},
   "outputs": [
    {
     "name": "stdout",
     "output_type": "stream",
     "text": [
      "(60,)\n"
     ]
    }
   ],
   "source": [
    "a=np.arange(.5,25,.41)\n",
    "print(a.shape)"
   ]
  },
  {
   "cell_type": "code",
   "execution_count": 243,
   "metadata": {},
   "outputs": [],
   "source": [
    "\n",
    "n=118\n",
    "for k in range(1,n+1):\n",
    "    real=df[:,3][df[:,1]==k]\n",
    "    img=(df[:,4][df[:,1]==k])*1j\n",
    "    frequency=np.zeros(np.size(freq))\n",
    "# Z=np.zeros(np.size(freq),dtype=np.complex128)\n",
    "\n",
    "\n",
    "    for i in range(np.size(freq)):\n",
    "        frequency[i]=freq[i]\n",
    "   \n",
    "\n",
    "    for i in range(np.size(freq)):\n",
    "\n",
    "        Z[i]=real[i]-img[i]\n",
    "    Z=Z[:60]\n",
    "    from impedance.models.circuits import Randles,CustomCircuit as cc\n",
    "    circuit = 'R0-p(R1,C1)-p(R2-Wo1,C2)'\n",
    "    initial_guess = [.01, .01, 100, .01, .05, 100, 1]\n",
    "    circuit=cc(circuit=circuit,initial_guess=initial_guess)\n",
    "    circuit=circuit.fit(frequency,Z)\n",
    "    frequency=np.arange(.001,100,1.67)\n",
    "    Z_25c01=(circuit.predict(frequency))\n",
    "    zp=np.zeros(120)\n",
    "    for i in range(60):\n",
    "        zp[i]=np.real(Z_25c01[i])\n",
    "    for i in range(60):\n",
    "        zp[i+60]=np.imag(Z_25c01[i])\n",
    "        \n",
    "    Zeq.append(zp)"
   ]
  },
  {
   "cell_type": "code",
   "execution_count": 244,
   "metadata": {},
   "outputs": [],
   "source": [
    "df=np.genfromtxt(\"EIS_state_V_25C02.txt\",delimiter=\"\\t\")"
   ]
  },
  {
   "cell_type": "code",
   "execution_count": 222,
   "metadata": {},
   "outputs": [],
   "source": [
    "\n",
    "n=82\n",
    "for k in range(1,n+1):\n",
    "    real=df[:,3][df[:,1]==k]\n",
    "    img=(df[:,4][df[:,1]==k])*1j\n",
    "    frequency=np.zeros(np.size(freq))\n",
    "# Z=np.zeros(np.size(freq),dtype=np.complex128)\n",
    "\n",
    "\n",
    "    for i in range(np.size(freq)):\n",
    "        frequency[i]=freq[i]\n",
    "   \n",
    "\n",
    "    for i in range(np.size(freq)):\n",
    "\n",
    "        Z[i]=real[i]-img[i]\n",
    "    Z=Z[:60]\n",
    "    from impedance.models.circuits import Randles,CustomCircuit as cc\n",
    "    circuit = 'R0-p(R1,C1)-p(R2-Wo1,C2)'\n",
    "    initial_guess = [.01, .01, 100, .01, .05, 100, 1]\n",
    "    circuit=cc(circuit=circuit,initial_guess=initial_guess)\n",
    "    circuit=circuit.fit(frequency,Z)\n",
    "    frequency=np.arange(.001,100,1.67)\n",
    "    Z_25c02=(circuit.predict(frequency))\n",
    "    zp=np.zeros(120)\n",
    "    for i in range(60):\n",
    "        zp[i]=np.real(Z_25c02[i])\n",
    "    for i in range(60):\n",
    "        zp[i+60]=np.imag(Z_25c02[i])\n",
    "        \n",
    "    Zeq.append(zp)"
   ]
  },
  {
   "cell_type": "code",
   "execution_count": 245,
   "metadata": {},
   "outputs": [],
   "source": [
    "df=np.genfromtxt(\"EIS_state_V_25C03.txt\",delimiter=\"\\t\")"
   ]
  },
  {
   "cell_type": "code",
   "execution_count": 246,
   "metadata": {},
   "outputs": [],
   "source": [
    "\n",
    "n=7\n",
    "for k in range(1,n+1):\n",
    "    real=df[:,3][df[:,1]==k]\n",
    "    img=(df[:,4][df[:,1]==k])*1j\n",
    "    frequency=np.zeros(np.size(freq))\n",
    "# Z=np.zeros(np.size(freq),dtype=np.complex128)\n",
    "\n",
    "\n",
    "    for i in range(np.size(freq)):\n",
    "        frequency[i]=freq[i]\n",
    "   \n",
    "\n",
    "    for i in range(np.size(freq)):\n",
    "\n",
    "        Z[i]=real[i]-img[i]\n",
    "    Z=Z[:60]\n",
    "    from impedance.models.circuits import Randles,CustomCircuit as cc\n",
    "    circuit = 'R0-p(R1,C1)-p(R2-Wo1,C2)'\n",
    "    initial_guess = [.01, .01, 100, .01, .05, 100, 1]\n",
    "    circuit=cc(circuit=circuit,initial_guess=initial_guess)\n",
    "    circuit=circuit.fit(frequency,Z)\n",
    "    frequency=np.arange(.001,100,1.67)\n",
    "    Z_25c03=(circuit.predict(frequency))\n",
    "    zp=np.zeros(120)\n",
    "    for i in range(60):\n",
    "        zp[i]=np.real(Z_25c03[i])\n",
    "    for i in range(60):\n",
    "        zp[i+60]=np.imag(Z_25c03[i])\n",
    "        \n",
    "    Zeq.append(zp)"
   ]
  },
  {
   "cell_type": "code",
   "execution_count": 25,
   "metadata": {},
   "outputs": [],
   "source": [
    "df=np.genfromtxt(\"EIS_state_V_25C04.txt\",delimiter=\"\\t\")"
   ]
  },
  {
   "cell_type": "code",
   "execution_count": 26,
   "metadata": {},
   "outputs": [],
   "source": [
    "n=81\n",
    "for k in range(1,n+1):\n",
    "    real=df[:,3][df[:,1]==k]\n",
    "    img=(df[:,4][df[:,1]==k])*1j\n",
    "    frequency=np.zeros(np.size(freq))\n",
    "# Z=np.zeros(np.size(freq),dtype=np.complex128)\n",
    "\n",
    "\n",
    "    for i in range(np.size(freq)):\n",
    "        frequency[i]=freq[i]\n",
    "   \n",
    "\n",
    "    for i in range(np.size(freq)):\n",
    "\n",
    "        Z[i]=real[i]-img[i]\n",
    "    Z=Z[:60]\n",
    "    from impedance.models.circuits import Randles,CustomCircuit as cc\n",
    "    circuit = 'R0-p(R1,C1)-p(R2-Wo1,C2)'\n",
    "    initial_guess = [.01, .01, 100, .01, .05, 100, 1]\n",
    "    circuit=cc(circuit=circuit,initial_guess=initial_guess)\n",
    "    circuit=circuit.fit(frequency,Z)\n",
    "    frequency=np.arange(.5,25,.41)\n",
    "    Z_25c04=(circuit.predict(frequency))\n",
    "    zp=np.zeros(120)\n",
    "    for i in range(60):\n",
    "        zp[i]=np.real(Z_25c04[i])\n",
    "    for i in range(60):\n",
    "        zp[i+60]=np.imag(Z_25c04[i])\n",
    "        \n",
    "    Zeq.append(zp)"
   ]
  },
  {
   "cell_type": "code",
   "execution_count": 247,
   "metadata": {},
   "outputs": [],
   "source": [
    "df=np.genfromtxt(\"EIS_state_V_35C01.txt\",delimiter=\"\\t\")"
   ]
  },
  {
   "cell_type": "code",
   "execution_count": 248,
   "metadata": {},
   "outputs": [],
   "source": [
    "\n",
    "n=110\n",
    "for k in range(1,n+1):\n",
    "    real=df[:,3][df[:,1]==k]\n",
    "    img=(df[:,4][df[:,1]==k])*1j\n",
    "    frequency=np.zeros(np.size(freq))\n",
    "# Z=np.zeros(np.size(freq),dtype=np.complex128)\n",
    "\n",
    "\n",
    "    for i in range(np.size(freq)):\n",
    "        frequency[i]=freq[i]\n",
    "   \n",
    "\n",
    "    for i in range(np.size(freq)):\n",
    "\n",
    "        Z[i]=real[i]-img[i]\n",
    "    Z=Z[:60]\n",
    "    from impedance.models.circuits import Randles,CustomCircuit as cc\n",
    "    circuit = 'R0-p(R1,C1)-p(R2-Wo1,C2)'\n",
    "    initial_guess = [.01, .01, 100, .01, .05, 100, 1]\n",
    "    circuit=cc(circuit=circuit,initial_guess=initial_guess)\n",
    "    circuit=circuit.fit(frequency,Z)\n",
    "    frequency=np.arange(.001,100,1.67)\n",
    "    Z_35c01=(circuit.predict(frequency))\n",
    "    zp=np.zeros(120)\n",
    "    for i in range(60):\n",
    "        zp[i]=np.real(Z_35c01[i])\n",
    "    for i in range(60):\n",
    "        zp[i+60]=np.imag(Z_35c01[i])\n",
    "        \n",
    "    Zeq.append(zp)"
   ]
  },
  {
   "cell_type": "code",
   "execution_count": 249,
   "metadata": {},
   "outputs": [],
   "source": [
    "df=np.genfromtxt(\"EIS_state_V_45C01.txt\",delimiter=\"\\t\")"
   ]
  },
  {
   "cell_type": "code",
   "execution_count": 250,
   "metadata": {},
   "outputs": [],
   "source": [
    "n=208\n",
    "for k in range(1,n+1):\n",
    "    real=df[:,3][df[:,1]==k]\n",
    "    img=(df[:,4][df[:,1]==k])*1j\n",
    "    frequency=np.zeros(np.size(freq))\n",
    "# Z=np.zeros(np.size(freq),dtype=np.complex128)\n",
    "\n",
    "\n",
    "    for i in range(np.size(freq)):\n",
    "        frequency[i]=freq[i]\n",
    "   \n",
    "\n",
    "    for i in range(np.size(freq)):\n",
    "\n",
    "        Z[i]=real[i]-img[i]\n",
    "    Z=Z[:60]\n",
    "    from impedance.models.circuits import Randles,CustomCircuit as cc\n",
    "    circuit = 'R0-p(R1,C1)-p(R2-Wo1,C2)'\n",
    "    initial_guess = [.01, .01, 100, .01, .05, 100, 1]\n",
    "    circuit=cc(circuit=circuit,initial_guess=initial_guess)\n",
    "    circuit=circuit.fit(frequency,Z)\n",
    "    frequency=np.arange(.001,100,1.67)\n",
    "    Z_45c01=(circuit.predict(frequency))\n",
    "    zp=np.zeros(120)\n",
    "    for i in range(60):\n",
    "        zp[i]=np.real(Z_45c01[i])\n",
    "    for i in range(60):\n",
    "        zp[i+60]=np.imag(Z_45c01[i])\n",
    "        \n",
    "    Zeq.append(zp)"
   ]
  },
  {
   "cell_type": "code",
   "execution_count": 251,
   "metadata": {},
   "outputs": [],
   "source": [
    "np.savetxt(\"Zeq_10.csv\", Zeq, delimiter=\",\")"
   ]
  },
  {
   "cell_type": "code",
   "execution_count": 252,
   "metadata": {},
   "outputs": [],
   "source": [
    "z_test=[]"
   ]
  },
  {
   "cell_type": "code",
   "execution_count": 253,
   "metadata": {},
   "outputs": [],
   "source": [
    "df=np.genfromtxt(\"EIS_state_V_35C02.txt\",delimiter=\"\\t\")"
   ]
  },
  {
   "cell_type": "code",
   "execution_count": 254,
   "metadata": {},
   "outputs": [],
   "source": [
    "\n",
    "n=299\n",
    "for k in range(1,n+1):\n",
    "    real=df[:,3][df[:,1]==k]\n",
    "    img=(df[:,4][df[:,1]==k])*1j\n",
    "    frequency=np.zeros(np.size(freq))\n",
    "# Z=np.zeros(np.size(freq),dtype=np.complex128)\n",
    "\n",
    "\n",
    "    for i in range(np.size(freq)):\n",
    "        frequency[i]=freq[i]\n",
    "   \n",
    "\n",
    "    for i in range(np.size(freq)):\n",
    "\n",
    "        Z[i]=real[i]-img[i]\n",
    "    Z=Z[:60]\n",
    "    from impedance.models.circuits import Randles,CustomCircuit as cc\n",
    "    circuit = 'R0-p(R1,C1)-p(R2-Wo1,C2)'\n",
    "    initial_guess = [.01, .01, 100, .01, .05, 100, 1]\n",
    "    circuit=cc(circuit=circuit,initial_guess=initial_guess)\n",
    "    circuit=circuit.fit(frequency,Z)\n",
    "    frequency=np.arange(.001,100,1.67)\n",
    "    Z_35c02=(circuit.predict(frequency))\n",
    "    zp=np.zeros(120)\n",
    "    for i in range(60):\n",
    "        zp[i]=np.real(Z_35c02[i])\n",
    "    for i in range(60):\n",
    "        zp[i+60]=np.imag(Z_35c02[i])\n",
    "    z_test.append(zp)"
   ]
  },
  {
   "cell_type": "code",
   "execution_count": 255,
   "metadata": {},
   "outputs": [],
   "source": [
    "np.savetxt(\"z_test_10.csv\", z_test, delimiter=\",\")"
   ]
  },
  {
   "cell_type": "code",
   "execution_count": 29,
   "metadata": {},
   "outputs": [
    {
     "data": {
      "text/plain": [
       "array([ 0.91212346,  0.89950823,  0.89331107,  0.88940885,  0.88662207,\n",
       "        0.88446839,  0.88270904,  0.88121061,  0.87989197,  0.87870062,\n",
       "        0.87760095,  0.87656784,  0.87558309,  0.87463313,  0.87370766,\n",
       "        0.87279875,  0.87190019,  0.87100707,  0.87011549,  0.86922232,\n",
       "        0.86832503,  0.86742159,  0.86651038,  0.86559008,  0.86465964,\n",
       "        0.86371826,  0.8627653 ,  0.86180027,  0.86082284,  0.85983279,\n",
       "        0.85882997,  0.85781435,  0.85678594,  0.85574486,  0.85469123,\n",
       "        0.85362525,  0.85254716,  0.85145723,  0.85035576,  0.84924309,\n",
       "        0.84811956,  0.84698555,  0.84584145,  0.84468766,  0.84352461,\n",
       "        0.84235271,  0.84117241,  0.83998415,  0.83878837,  0.83758552,\n",
       "        0.83637605,  0.83516042,  0.83393908,  0.83271247,  0.83148105,\n",
       "        0.83024525,  0.82900552,  0.8277623 ,  0.826516  ,  0.82526707,\n",
       "       -0.05086261, -0.04025072, -0.03607846, -0.03422534, -0.03351245,\n",
       "       -0.03345734, -0.03382081, -0.03446882, -0.03531952, -0.0363196 ,\n",
       "       -0.03743258, -0.03863248, -0.03990013, -0.04122102, -0.0425839 ,\n",
       "       -0.04397984, -0.04540163, -0.04684335, -0.04830009, -0.0497677 ,\n",
       "       -0.05124262, -0.05272183, -0.05420265, -0.05568276, -0.05716012,\n",
       "       -0.05863288, -0.06009943, -0.06155829, -0.06300814, -0.06444778,\n",
       "       -0.06587613, -0.0672922 , -0.06869509, -0.07008397, -0.0714581 ,\n",
       "       -0.07281678, -0.07415941, -0.07548539, -0.07679422, -0.07808541,\n",
       "       -0.07935855, -0.08061324, -0.08184913, -0.08306592, -0.08426331,\n",
       "       -0.08544108, -0.08659899, -0.08773687, -0.08885456, -0.08995192,\n",
       "       -0.09102884, -0.09208525, -0.09312108, -0.0941363 , -0.09513087,\n",
       "       -0.0961048 , -0.09705812, -0.09799085, -0.09890305, -0.09979479])"
      ]
     },
     "execution_count": 29,
     "metadata": {},
     "output_type": "execute_result"
    }
   ],
   "source": [
    "z_test"
   ]
  },
  {
   "cell_type": "code",
   "execution_count": 21,
   "metadata": {},
   "outputs": [
    {
     "ename": "ValueError",
     "evalue": "could not broadcast input array from shape (120) into shape (60)",
     "output_type": "error",
     "traceback": [
      "\u001b[0;31m---------------------------------------------------------------------------\u001b[0m",
      "\u001b[0;31mValueError\u001b[0m                                Traceback (most recent call last)",
      "\u001b[0;32m<ipython-input-21-8f7b0db527ea>\u001b[0m in \u001b[0;36m<module>\u001b[0;34m\u001b[0m\n\u001b[1;32m      2\u001b[0m     \u001b[0mzp\u001b[0m\u001b[0;34m=\u001b[0m\u001b[0mnp\u001b[0m\u001b[0;34m.\u001b[0m\u001b[0mzeros\u001b[0m\u001b[0;34m(\u001b[0m\u001b[0;36m120\u001b[0m\u001b[0;34m)\u001b[0m\u001b[0;34m\u001b[0m\u001b[0;34m\u001b[0m\u001b[0m\n\u001b[1;32m      3\u001b[0m \u001b[0;34m\u001b[0m\u001b[0m\n\u001b[0;32m----> 4\u001b[0;31m     \u001b[0mzp\u001b[0m\u001b[0;34m[\u001b[0m\u001b[0;34m:\u001b[0m\u001b[0;36m60\u001b[0m\u001b[0;34m]\u001b[0m\u001b[0;34m=\u001b[0m\u001b[0mnp\u001b[0m\u001b[0;34m.\u001b[0m\u001b[0mreal\u001b[0m\u001b[0;34m(\u001b[0m\u001b[0mz_test\u001b[0m\u001b[0;34m[\u001b[0m\u001b[0mj\u001b[0m\u001b[0;34m]\u001b[0m\u001b[0;34m)\u001b[0m\u001b[0;34m\u001b[0m\u001b[0;34m\u001b[0m\u001b[0m\n\u001b[0m\u001b[1;32m      5\u001b[0m \u001b[0;34m\u001b[0m\u001b[0m\n\u001b[1;32m      6\u001b[0m     \u001b[0mzp\u001b[0m\u001b[0;34m[\u001b[0m\u001b[0;36m60\u001b[0m\u001b[0;34m:\u001b[0m\u001b[0;34m]\u001b[0m\u001b[0;34m=\u001b[0m\u001b[0mnp\u001b[0m\u001b[0;34m.\u001b[0m\u001b[0mimag\u001b[0m\u001b[0;34m(\u001b[0m\u001b[0mz_test\u001b[0m\u001b[0;34m[\u001b[0m\u001b[0mj\u001b[0m\u001b[0;34m]\u001b[0m\u001b[0;34m)\u001b[0m\u001b[0;34m\u001b[0m\u001b[0;34m\u001b[0m\u001b[0m\n",
      "\u001b[0;31mValueError\u001b[0m: could not broadcast input array from shape (120) into shape (60)"
     ]
    }
   ],
   "source": [
    "for j in range(299):\n",
    "    zp=np.zeros(120)\n",
    "    \n",
    "    zp[:60]=np.real(z_test[j])\n",
    "    \n",
    "    zp[60:]=np.imag(z_test[j])\n",
    "\n",
    "    x_test.append(zp)"
   ]
  },
  {
   "cell_type": "code",
   "execution_count": 30,
   "metadata": {},
   "outputs": [
    {
     "data": {
      "text/plain": [
       "(525, 120)"
      ]
     },
     "execution_count": 30,
     "metadata": {},
     "output_type": "execute_result"
    }
   ],
   "source": [
    "np.shape(Zeq)"
   ]
  },
  {
   "cell_type": "code",
   "execution_count": 148,
   "metadata": {},
   "outputs": [],
   "source": [
    "Zeq=np.genfromtxt(\"Zeq_6.csv\",delimiter=\",\")"
   ]
  },
  {
   "cell_type": "code",
   "execution_count": null,
   "metadata": {},
   "outputs": [],
   "source": [
    "\n",
    "c1=Zeq[:118]\n",
    "c2=Zeq[200:282]\n",
    "c3=Zeq[450:457]\n",
    "c4=Zeq[760:870]\n",
    "c5=Zeq[1150:]"
   ]
  },
  {
   "cell_type": "code",
   "execution_count": null,
   "metadata": {},
   "outputs": [],
   "source": [
    "z=np.zeros((525,120))\n"
   ]
  },
  {
   "cell_type": "code",
   "execution_count": 30,
   "metadata": {},
   "outputs": [
    {
     "name": "stdout",
     "output_type": "stream",
     "text": [
      "(1358, 120)\n"
     ]
    }
   ],
   "source": [
    "print(np.shape(Zeq))"
   ]
  },
  {
   "cell_type": "code",
   "execution_count": null,
   "metadata": {},
   "outputs": [],
   "source": [
    "j=0\n",
    "for i in range(118):\n",
    "    z[j]=c1[i]\n",
    "    j+=1\n",
    "\n",
    "for i in range(82):\n",
    "    z[j]=c2[i]\n",
    "    j+=1\n",
    "\n",
    "\n",
    "for i in range(7):\n",
    "    z[j]=c3[i]\n",
    "    j+=1\n",
    "    \n",
    "\n",
    "for i in range(110):\n",
    "    z[j]=c4[i]\n",
    "    j+=1\n",
    "    \n",
    "\n",
    "for i in range(208):\n",
    "    z[j]=c5[i]\n",
    "    j+=1\n",
    "print(j)"
   ]
  },
  {
   "cell_type": "code",
   "execution_count": 31,
   "metadata": {},
   "outputs": [],
   "source": [
    "from sklearn.metrics import mean_squared_error\n",
    "\n",
    "def rmse(labels, predictions):\n",
    "    mse = mean_squared_error(labels, predictions)\n",
    "    return np.sqrt(mse)"
   ]
  },
  {
   "cell_type": "code",
   "execution_count": 32,
   "metadata": {},
   "outputs": [],
   "source": [
    "import pandas as pd\n",
    "import numpy as np\n",
    "EIS_data=np.genfromtxt(\"EIS_data.txt\")\n",
    "RUL=np.genfromtxt(\"RUL.txt\")\n",
    "EIS_data_RUL=np.genfromtxt(\"EIS_data_RUL.txt\")\n",
    "EIS_data_35C02=np.genfromtxt(\"EIS_data_35C02.txt\")\n",
    "rul35C02=np.genfromtxt(\"rul35C02.txt\")\n",
    "capacity_data=np.genfromtxt(\"Capacity_data.txt\")\n",
    "capacity_35C02=np.genfromtxt(\"capacity35C02.txt\")"
   ]
  },
  {
   "cell_type": "code",
   "execution_count": 33,
   "metadata": {},
   "outputs": [],
   "source": [
    "mean=np.mean(EIS_data,axis=0)\n",
    "std=np.std(EIS_data)\n",
    "\n",
    "Y_train=RUL"
   ]
  },
  {
   "cell_type": "code",
   "execution_count": 34,
   "metadata": {},
   "outputs": [],
   "source": [
    "X_test= (EIS_data_35C02-mean)/std\n",
    "Y_test=rul35C02\n"
   ]
  },
  {
   "cell_type": "code",
   "execution_count": 256,
   "metadata": {},
   "outputs": [
    {
     "ename": "ValueError",
     "evalue": "Found input variables with inconsistent numbers of samples: [443, 525]",
     "output_type": "error",
     "traceback": [
      "\u001b[0;31m---------------------------------------------------------------------------\u001b[0m",
      "\u001b[0;31mValueError\u001b[0m                                Traceback (most recent call last)",
      "\u001b[0;32m<ipython-input-256-ba1d551690fa>\u001b[0m in \u001b[0;36m<module>\u001b[0;34m\u001b[0m\n\u001b[1;32m      4\u001b[0m \u001b[0;34m\u001b[0m\u001b[0m\n\u001b[1;32m      5\u001b[0m \u001b[0mlas\u001b[0m \u001b[0;34m=\u001b[0m \u001b[0mlinear_model\u001b[0m\u001b[0;34m.\u001b[0m\u001b[0mLasso\u001b[0m\u001b[0;34m(\u001b[0m\u001b[0malpha\u001b[0m\u001b[0;34m=\u001b[0m\u001b[0;36m0.005\u001b[0m\u001b[0;34m)\u001b[0m\u001b[0;34m\u001b[0m\u001b[0;34m\u001b[0m\u001b[0m\n\u001b[0;32m----> 6\u001b[0;31m \u001b[0mlas\u001b[0m\u001b[0;34m.\u001b[0m\u001b[0mfit\u001b[0m\u001b[0;34m(\u001b[0m\u001b[0mZeq\u001b[0m\u001b[0;34m,\u001b[0m \u001b[0mY_train\u001b[0m\u001b[0;34m)\u001b[0m\u001b[0;34m\u001b[0m\u001b[0;34m\u001b[0m\u001b[0m\n\u001b[0m\u001b[1;32m      7\u001b[0m \u001b[0mfinal_predictions\u001b[0m \u001b[0;34m=\u001b[0m\u001b[0mlas\u001b[0m\u001b[0;34m.\u001b[0m\u001b[0mpredict\u001b[0m\u001b[0;34m(\u001b[0m\u001b[0mz_test\u001b[0m\u001b[0;34m)\u001b[0m\u001b[0;34m\u001b[0m\u001b[0;34m\u001b[0m\u001b[0m\n\u001b[1;32m      8\u001b[0m \u001b[0mprint\u001b[0m\u001b[0;34m(\u001b[0m\u001b[0;34m\"mean_abs_err=\"\u001b[0m\u001b[0;34m,\u001b[0m\u001b[0mmean_absolute_error\u001b[0m\u001b[0;34m(\u001b[0m\u001b[0mY_test\u001b[0m\u001b[0;34m,\u001b[0m \u001b[0mfinal_predictions\u001b[0m\u001b[0;34m[\u001b[0m\u001b[0;34m:\u001b[0m\u001b[0;36m127\u001b[0m\u001b[0;34m]\u001b[0m\u001b[0;34m)\u001b[0m\u001b[0;34m*\u001b[0m\u001b[0;36m100\u001b[0m\u001b[0;34m)\u001b[0m\u001b[0;34m\u001b[0m\u001b[0;34m\u001b[0m\u001b[0m\n",
      "\u001b[0;32m~/anaconda3/lib/python3.7/site-packages/sklearn/linear_model/_coordinate_descent.py\u001b[0m in \u001b[0;36mfit\u001b[0;34m(self, X, y, check_input)\u001b[0m\n\u001b[1;32m    700\u001b[0m             X, y = check_X_y(X, y, accept_sparse='csc',\n\u001b[1;32m    701\u001b[0m                              \u001b[0morder\u001b[0m\u001b[0;34m=\u001b[0m\u001b[0;34m'F'\u001b[0m\u001b[0;34m,\u001b[0m \u001b[0mdtype\u001b[0m\u001b[0;34m=\u001b[0m\u001b[0;34m[\u001b[0m\u001b[0mnp\u001b[0m\u001b[0;34m.\u001b[0m\u001b[0mfloat64\u001b[0m\u001b[0;34m,\u001b[0m \u001b[0mnp\u001b[0m\u001b[0;34m.\u001b[0m\u001b[0mfloat32\u001b[0m\u001b[0;34m]\u001b[0m\u001b[0;34m,\u001b[0m\u001b[0;34m\u001b[0m\u001b[0;34m\u001b[0m\u001b[0m\n\u001b[0;32m--> 702\u001b[0;31m                              copy=X_copied, multi_output=True, y_numeric=True)\n\u001b[0m\u001b[1;32m    703\u001b[0m             y = check_array(y, order='F', copy=False, dtype=X.dtype.type,\n\u001b[1;32m    704\u001b[0m                             ensure_2d=False)\n",
      "\u001b[0;32m~/anaconda3/lib/python3.7/site-packages/sklearn/utils/validation.py\u001b[0m in \u001b[0;36mcheck_X_y\u001b[0;34m(X, y, accept_sparse, accept_large_sparse, dtype, order, copy, force_all_finite, ensure_2d, allow_nd, multi_output, ensure_min_samples, ensure_min_features, y_numeric, warn_on_dtype, estimator)\u001b[0m\n\u001b[1;32m    763\u001b[0m         \u001b[0my\u001b[0m \u001b[0;34m=\u001b[0m \u001b[0my\u001b[0m\u001b[0;34m.\u001b[0m\u001b[0mastype\u001b[0m\u001b[0;34m(\u001b[0m\u001b[0mnp\u001b[0m\u001b[0;34m.\u001b[0m\u001b[0mfloat64\u001b[0m\u001b[0;34m)\u001b[0m\u001b[0;34m\u001b[0m\u001b[0;34m\u001b[0m\u001b[0m\n\u001b[1;32m    764\u001b[0m \u001b[0;34m\u001b[0m\u001b[0m\n\u001b[0;32m--> 765\u001b[0;31m     \u001b[0mcheck_consistent_length\u001b[0m\u001b[0;34m(\u001b[0m\u001b[0mX\u001b[0m\u001b[0;34m,\u001b[0m \u001b[0my\u001b[0m\u001b[0;34m)\u001b[0m\u001b[0;34m\u001b[0m\u001b[0;34m\u001b[0m\u001b[0m\n\u001b[0m\u001b[1;32m    766\u001b[0m \u001b[0;34m\u001b[0m\u001b[0m\n\u001b[1;32m    767\u001b[0m     \u001b[0;32mreturn\u001b[0m \u001b[0mX\u001b[0m\u001b[0;34m,\u001b[0m \u001b[0my\u001b[0m\u001b[0;34m\u001b[0m\u001b[0;34m\u001b[0m\u001b[0m\n",
      "\u001b[0;32m~/anaconda3/lib/python3.7/site-packages/sklearn/utils/validation.py\u001b[0m in \u001b[0;36mcheck_consistent_length\u001b[0;34m(*arrays)\u001b[0m\n\u001b[1;32m    210\u001b[0m     \u001b[0;32mif\u001b[0m \u001b[0mlen\u001b[0m\u001b[0;34m(\u001b[0m\u001b[0muniques\u001b[0m\u001b[0;34m)\u001b[0m \u001b[0;34m>\u001b[0m \u001b[0;36m1\u001b[0m\u001b[0;34m:\u001b[0m\u001b[0;34m\u001b[0m\u001b[0;34m\u001b[0m\u001b[0m\n\u001b[1;32m    211\u001b[0m         raise ValueError(\"Found input variables with inconsistent numbers of\"\n\u001b[0;32m--> 212\u001b[0;31m                          \" samples: %r\" % [int(l) for l in lengths])\n\u001b[0m\u001b[1;32m    213\u001b[0m \u001b[0;34m\u001b[0m\u001b[0m\n\u001b[1;32m    214\u001b[0m \u001b[0;34m\u001b[0m\u001b[0m\n",
      "\u001b[0;31mValueError\u001b[0m: Found input variables with inconsistent numbers of samples: [443, 525]"
     ]
    }
   ],
   "source": [
    "from sklearn.metrics import mean_absolute_error\n",
    "from sklearn import linear_model\n",
    "\n",
    "\n",
    "las = linear_model.Lasso(alpha=0.005)\n",
    "las.fit(Zeq, Y_train)\n",
    "final_predictions =las.predict(z_test)\n",
    "print(\"mean_abs_err=\",mean_absolute_error(Y_test, final_predictions[:127])*100)\n",
    "print(\"RMSE=\",rmse(Y_test, final_predictions[:127]))\n",
    "from sklearn.metrics import r2_score\n",
    "print(\"R^2=\",r2_score(Y_test, final_predictions[:127]))"
   ]
  },
  {
   "cell_type": "code",
   "execution_count": null,
   "metadata": {},
   "outputs": [],
   "source": [
    "import matplotlib.pyplot as plt\n",
    "\n",
    "ax = plt.subplot()\n",
    "ax.plot(Y_test,final_predictions[:127])\n",
    "ax.plot([0,305],[0,305], \"k-\")\n",
    "# ax.plot(curves[\"batch1_cell0\"][\"V\"][:99],q_1850, label='Cycle No 1850')\n",
    "ax.set_xlabel(\"Actual\")\n",
    "ax.set_ylabel(\"Predicted\")\n",
    "# ax.legend()\n",
    "plt.show()\n"
   ]
  },
  {
   "cell_type": "code",
   "execution_count": null,
   "metadata": {},
   "outputs": [],
   "source": [
    "from sklearn.linear_model import ARDRegression\n",
    "clf = ARDRegression(compute_score=True)\n",
    "clf.fit(Zeq, Y_train)"
   ]
  },
  {
   "cell_type": "code",
   "execution_count": null,
   "metadata": {},
   "outputs": [],
   "source": [
    "from scipy import stats\n",
    "import pylab as pl\n",
    "\n",
    "n_features=120\n",
    "### Create weigts with a precision lambda_ of 4.\n",
    "lambda_ = 4.\n",
    "w = np.zeros(n_features)\n",
    "### Only keep 10 weights of interest\n",
    "relevant_features = np.random.randint(0, n_features, 10)\n",
    "for i in relevant_features:\n",
    "    w[i] = stats.norm.rvs(loc=0, scale=1. / np.sqrt(lambda_))\n",
    "pl.figure()\n",
    "axe = pl.axes([0.1,0.6,0.8,0.325])\n",
    "axe.set_title(\"ARD - Weights of the model\")\n",
    "axe.plot(clf.coef_, 'b-')\n",
    "axe.plot(w, 'g-')\n",
    "axe.set_xlabel(\"Features\")\n",
    "axe.set_ylabel(\"Values of the weights\")\n",
    "axe.legend(loc=1)"
   ]
  }
 ],
 "metadata": {
  "kernelspec": {
   "display_name": "Python 3",
   "language": "python",
   "name": "python3"
  },
  "language_info": {
   "codemirror_mode": {
    "name": "ipython",
    "version": 3
   },
   "file_extension": ".py",
   "mimetype": "text/x-python",
   "name": "python",
   "nbconvert_exporter": "python",
   "pygments_lexer": "ipython3",
   "version": "3.7.3"
  }
 },
 "nbformat": 4,
 "nbformat_minor": 4
}
