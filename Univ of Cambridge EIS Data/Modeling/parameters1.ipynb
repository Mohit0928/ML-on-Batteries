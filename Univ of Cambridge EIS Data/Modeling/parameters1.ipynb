{
 "cells": [
  {
   "cell_type": "code",
   "execution_count": 1,
   "metadata": {},
   "outputs": [],
   "source": [
    "from impedance import preprocessing\n",
    "import numpy as np\n",
    "import pandas as pd"
   ]
  },
  {
   "cell_type": "code",
   "execution_count": 2,
   "metadata": {},
   "outputs": [],
   "source": [
    "df=np.genfromtxt(\"EIS_state_V_25C04.txt\",delimiter=\"\\t\")\n",
    "fr,Z = preprocessing.readCSV('./exampleData.csv')\n",
    "R0_25c04=[]\n",
    "R1_25c04 = []\n",
    "C1_25c04 = []\n",
    "R2_25c04 = []\n",
    "C2_25c04 = []\n",
    "R3_25c04= []\n",
    "Wo1_0_25c04= []\n",
    "Wo1_1_25c04 = []\n",
    "C3_25c04=[]"
   ]
  },
  {
   "cell_type": "code",
   "execution_count": 3,
   "metadata": {},
   "outputs": [],
   "source": [
    "\n",
    "n=81\n",
    "for k in range(1,n+1):\n",
    "    freq=df[:,2][df[:,1]==1]\n",
    "    real=df[:,3][df[:,1]==k]\n",
    "    img=(df[:,4][df[:,1]==k])*1j\n",
    "\n",
    "\n",
    "    for i in range(np.size(freq)):\n",
    "\n",
    "        Z[i]=real[i]-img[i]\n",
    "    Z=Z[:60]\n",
    "    from impedance.models.circuits import Randles,CustomCircuit as cc\n",
    "    circuit = 'R0-p(R1,C1)-p(R2,C2)-p(R3-Wo1,C3)'\n",
    "    initial_guess = [.01, .01, 100, .01, 100,.01, .05, 100, 1]\n",
    "    circuit=cc(circuit=circuit,initial_guess=initial_guess)\n",
    "    circuit=circuit.fit(freq,Z)\n",
    "    \n",
    "    R0_25c04.append(circuit.parameters_[0])\n",
    "    R1_25c04.append(circuit.parameters_[1])\n",
    "    C1_25c04.append(circuit.parameters_[2])\n",
    "    R2_25c04.append(circuit.parameters_[3])\n",
    "    C2_25c04.append(circuit.parameters_[4])\n",
    "    R3_25c04.append(circuit.parameters_[5])\n",
    "    Wo1_0_25c04.append(circuit.parameters_[6])\n",
    "    Wo1_1_25c04.append(circuit.parameters_[7])\n",
    "    C3_25c04.append(circuit.parameters_[8])\n",
    "    \n",
    "   "
   ]
  },
  {
   "cell_type": "code",
   "execution_count": 15,
   "metadata": {},
   "outputs": [],
   "source": [
    "para_25c04=pd.DataFrame ({\n",
    "\"R0_25c04\":R0_25c04,\n",
    "\"R1_25c04\" :R2_25c04,\n",
    "\"C1_25c04\" :C1_25c04,\n",
    "\"R2_25c04\" : R2_25c04,\n",
    "\"C2_25c04\" :C2_25c04,\n",
    "\"R3_25c04\" : R3_25c04,\n",
    "\"Wo1_0_25c04\" :Wo1_0_25c04,\n",
    "\"Wo1_1_25c04\":Wo1_1_25c04,\n",
    "\"C3_25c04\":C3_25c04,\n",
    "\n",
    "\n",
    "                   })\n",
    "\n",
    "para_25c04.to_csv(\"para_3RC_25c04.csv\")\n"
   ]
  },
  {
   "cell_type": "code",
   "execution_count": 6,
   "metadata": {},
   "outputs": [
    {
     "data": {
      "text/plain": [
       "(81,)"
      ]
     },
     "execution_count": 6,
     "metadata": {},
     "output_type": "execute_result"
    }
   ],
   "source": [
    "np.shape(R0_25c04)"
   ]
  },
  {
   "cell_type": "code",
   "execution_count": 12,
   "metadata": {},
   "outputs": [],
   "source": [
    "df=np.genfromtxt(\"EIS_state_V_35C01.txt\",delimiter=\"\\t\")\n",
    "fr,Z = preprocessing.readCSV('./exampleData.csv')\n",
    "R0_35c01=[]\n",
    "R1_35c01 = []\n",
    "C1_35c01 = []\n",
    "R2_35c01 = []\n",
    "C2_35c01 = []\n",
    "R3_35c01 = []\n",
    "Wo1_0_35c01 = []\n",
    "Wo1_1_35c01 = []\n",
    "C3_35c01=[]"
   ]
  },
  {
   "cell_type": "code",
   "execution_count": 13,
   "metadata": {},
   "outputs": [
    {
     "ename": "RuntimeError",
     "evalue": "Optimal parameters not found: The maximum number of function evaluations is exceeded.",
     "output_type": "error",
     "traceback": [
      "\u001b[0;31m---------------------------------------------------------------------------\u001b[0m",
      "\u001b[0;31mRuntimeError\u001b[0m                              Traceback (most recent call last)",
      "\u001b[0;32m<ipython-input-13-11aff9c4e1b6>\u001b[0m in \u001b[0;36m<module>\u001b[0;34m\u001b[0m\n\u001b[1;32m     14\u001b[0m     \u001b[0minitial_guess\u001b[0m \u001b[0;34m=\u001b[0m \u001b[0;34m[\u001b[0m\u001b[0;36m.01\u001b[0m\u001b[0;34m,\u001b[0m \u001b[0;36m.01\u001b[0m\u001b[0;34m,\u001b[0m \u001b[0;36m100\u001b[0m\u001b[0;34m,\u001b[0m \u001b[0;36m.01\u001b[0m\u001b[0;34m,\u001b[0m \u001b[0;36m100\u001b[0m\u001b[0;34m,\u001b[0m\u001b[0;36m.01\u001b[0m\u001b[0;34m,\u001b[0m \u001b[0;36m.05\u001b[0m\u001b[0;34m,\u001b[0m \u001b[0;36m100\u001b[0m\u001b[0;34m,\u001b[0m \u001b[0;36m1\u001b[0m\u001b[0;34m]\u001b[0m\u001b[0;34m\u001b[0m\u001b[0;34m\u001b[0m\u001b[0m\n\u001b[1;32m     15\u001b[0m     \u001b[0mcircuit\u001b[0m\u001b[0;34m=\u001b[0m\u001b[0mcc\u001b[0m\u001b[0;34m(\u001b[0m\u001b[0mcircuit\u001b[0m\u001b[0;34m=\u001b[0m\u001b[0mcircuit\u001b[0m\u001b[0;34m,\u001b[0m\u001b[0minitial_guess\u001b[0m\u001b[0;34m=\u001b[0m\u001b[0minitial_guess\u001b[0m\u001b[0;34m)\u001b[0m\u001b[0;34m\u001b[0m\u001b[0;34m\u001b[0m\u001b[0m\n\u001b[0;32m---> 16\u001b[0;31m     \u001b[0mcircuit\u001b[0m\u001b[0;34m=\u001b[0m\u001b[0mcircuit\u001b[0m\u001b[0;34m.\u001b[0m\u001b[0mfit\u001b[0m\u001b[0;34m(\u001b[0m\u001b[0mfreq\u001b[0m\u001b[0;34m,\u001b[0m\u001b[0mZ\u001b[0m\u001b[0;34m)\u001b[0m\u001b[0;34m\u001b[0m\u001b[0;34m\u001b[0m\u001b[0m\n\u001b[0m\u001b[1;32m     17\u001b[0m \u001b[0;34m\u001b[0m\u001b[0m\n\u001b[1;32m     18\u001b[0m     \u001b[0mR0_35c01\u001b[0m\u001b[0;34m.\u001b[0m\u001b[0mappend\u001b[0m\u001b[0;34m(\u001b[0m\u001b[0mcircuit\u001b[0m\u001b[0;34m.\u001b[0m\u001b[0mparameters_\u001b[0m\u001b[0;34m[\u001b[0m\u001b[0;36m0\u001b[0m\u001b[0;34m]\u001b[0m\u001b[0;34m)\u001b[0m\u001b[0;34m\u001b[0m\u001b[0;34m\u001b[0m\u001b[0m\n",
      "\u001b[0;32m~/anaconda3/lib/python3.7/site-packages/impedance/models/circuits/circuits.py\u001b[0m in \u001b[0;36mfit\u001b[0;34m(self, frequencies, impedance, method, bounds)\u001b[0m\n\u001b[1;32m    105\u001b[0m                                            \u001b[0mself\u001b[0m\u001b[0;34m.\u001b[0m\u001b[0mcircuit\u001b[0m\u001b[0;34m,\u001b[0m \u001b[0mself\u001b[0m\u001b[0;34m.\u001b[0m\u001b[0minitial_guess\u001b[0m\u001b[0;34m,\u001b[0m\u001b[0;34m\u001b[0m\u001b[0;34m\u001b[0m\u001b[0m\n\u001b[1;32m    106\u001b[0m                                            \u001b[0mself\u001b[0m\u001b[0;34m.\u001b[0m\u001b[0mconstants\u001b[0m\u001b[0;34m,\u001b[0m \u001b[0mmethod\u001b[0m\u001b[0;34m=\u001b[0m\u001b[0mmethod\u001b[0m\u001b[0;34m,\u001b[0m\u001b[0;34m\u001b[0m\u001b[0;34m\u001b[0m\u001b[0m\n\u001b[0;32m--> 107\u001b[0;31m                                            bounds=bounds)\n\u001b[0m\u001b[1;32m    108\u001b[0m             \u001b[0mself\u001b[0m\u001b[0;34m.\u001b[0m\u001b[0mparameters_\u001b[0m \u001b[0;34m=\u001b[0m \u001b[0mparameters\u001b[0m\u001b[0;34m\u001b[0m\u001b[0;34m\u001b[0m\u001b[0m\n\u001b[1;32m    109\u001b[0m             \u001b[0;32mif\u001b[0m \u001b[0mconf\u001b[0m \u001b[0;32mis\u001b[0m \u001b[0;32mnot\u001b[0m \u001b[0;32mNone\u001b[0m\u001b[0;34m:\u001b[0m\u001b[0;34m\u001b[0m\u001b[0;34m\u001b[0m\u001b[0m\n",
      "\u001b[0;32m~/anaconda3/lib/python3.7/site-packages/impedance/models/circuits/fitting.py\u001b[0m in \u001b[0;36mcircuit_fit\u001b[0;34m(frequencies, impedances, circuit, initial_guess, constants, method, bounds, bootstrap)\u001b[0m\n\u001b[1;32m     91\u001b[0m                            \u001b[0mnp\u001b[0m\u001b[0;34m.\u001b[0m\u001b[0mhstack\u001b[0m\u001b[0;34m(\u001b[0m\u001b[0;34m[\u001b[0m\u001b[0mZ\u001b[0m\u001b[0;34m.\u001b[0m\u001b[0mreal\u001b[0m\u001b[0;34m,\u001b[0m \u001b[0mZ\u001b[0m\u001b[0;34m.\u001b[0m\u001b[0mimag\u001b[0m\u001b[0;34m]\u001b[0m\u001b[0;34m)\u001b[0m\u001b[0;34m,\u001b[0m \u001b[0mp0\u001b[0m\u001b[0;34m=\u001b[0m\u001b[0minitial_guess\u001b[0m\u001b[0;34m,\u001b[0m\u001b[0;34m\u001b[0m\u001b[0;34m\u001b[0m\u001b[0m\n\u001b[1;32m     92\u001b[0m                            \u001b[0mmethod\u001b[0m\u001b[0;34m=\u001b[0m\u001b[0mmethod\u001b[0m\u001b[0;34m,\u001b[0m \u001b[0mbounds\u001b[0m\u001b[0;34m=\u001b[0m\u001b[0mbounds\u001b[0m\u001b[0;34m,\u001b[0m \u001b[0mmaxfev\u001b[0m\u001b[0;34m=\u001b[0m\u001b[0;36m100000\u001b[0m\u001b[0;34m,\u001b[0m\u001b[0;34m\u001b[0m\u001b[0;34m\u001b[0m\u001b[0m\n\u001b[0;32m---> 93\u001b[0;31m                            ftol=1E-13)\n\u001b[0m\u001b[1;32m     94\u001b[0m \u001b[0;34m\u001b[0m\u001b[0m\n\u001b[1;32m     95\u001b[0m     \u001b[0mperror\u001b[0m \u001b[0;34m=\u001b[0m \u001b[0mnp\u001b[0m\u001b[0;34m.\u001b[0m\u001b[0msqrt\u001b[0m\u001b[0;34m(\u001b[0m\u001b[0mnp\u001b[0m\u001b[0;34m.\u001b[0m\u001b[0mdiag\u001b[0m\u001b[0;34m(\u001b[0m\u001b[0mpcov\u001b[0m\u001b[0;34m)\u001b[0m\u001b[0;34m)\u001b[0m\u001b[0;34m\u001b[0m\u001b[0;34m\u001b[0m\u001b[0m\n",
      "\u001b[0;32m~/anaconda3/lib/python3.7/site-packages/scipy/optimize/minpack.py\u001b[0m in \u001b[0;36mcurve_fit\u001b[0;34m(f, xdata, ydata, p0, sigma, absolute_sigma, check_finite, bounds, method, jac, **kwargs)\u001b[0m\n\u001b[1;32m    776\u001b[0m \u001b[0;34m\u001b[0m\u001b[0m\n\u001b[1;32m    777\u001b[0m         \u001b[0;32mif\u001b[0m \u001b[0;32mnot\u001b[0m \u001b[0mres\u001b[0m\u001b[0;34m.\u001b[0m\u001b[0msuccess\u001b[0m\u001b[0;34m:\u001b[0m\u001b[0;34m\u001b[0m\u001b[0;34m\u001b[0m\u001b[0m\n\u001b[0;32m--> 778\u001b[0;31m             \u001b[0;32mraise\u001b[0m \u001b[0mRuntimeError\u001b[0m\u001b[0;34m(\u001b[0m\u001b[0;34m\"Optimal parameters not found: \"\u001b[0m \u001b[0;34m+\u001b[0m \u001b[0mres\u001b[0m\u001b[0;34m.\u001b[0m\u001b[0mmessage\u001b[0m\u001b[0;34m)\u001b[0m\u001b[0;34m\u001b[0m\u001b[0;34m\u001b[0m\u001b[0m\n\u001b[0m\u001b[1;32m    779\u001b[0m \u001b[0;34m\u001b[0m\u001b[0m\n\u001b[1;32m    780\u001b[0m         \u001b[0mysize\u001b[0m \u001b[0;34m=\u001b[0m \u001b[0mlen\u001b[0m\u001b[0;34m(\u001b[0m\u001b[0mres\u001b[0m\u001b[0;34m.\u001b[0m\u001b[0mfun\u001b[0m\u001b[0;34m)\u001b[0m\u001b[0;34m\u001b[0m\u001b[0;34m\u001b[0m\u001b[0m\n",
      "\u001b[0;31mRuntimeError\u001b[0m: Optimal parameters not found: The maximum number of function evaluations is exceeded."
     ]
    }
   ],
   "source": [
    "\n",
    "n=327\n",
    "for k in range(1,n+1):\n",
    "    freq=df[:,2][df[:,1]==1]\n",
    "    real=df[:,3][df[:,1]==k]\n",
    "    img=(df[:,4][df[:,1]==k])*1j\n",
    "\n",
    "\n",
    "    for i in range(np.size(freq)):\n",
    "\n",
    "        Z[i]=real[i]-img[i]\n",
    "    Z=Z[:60]\n",
    "    from impedance.models.circuits import Randles,CustomCircuit as cc\n",
    "    circuit = 'R0-p(R1,C1)-p(R2,C2)-p(R3-Wo1,C3)'\n",
    "    initial_guess = [.01, .01, 100, .01, 100,.01, .05, 100, 1]\n",
    "    circuit=cc(circuit=circuit,initial_guess=initial_guess)\n",
    "    circuit=circuit.fit(freq,Z)\n",
    "    \n",
    "    R0_35c01.append(circuit.parameters_[0])\n",
    "    R1_35c01.append(circuit.parameters_[1])\n",
    "    C1_35c01.append(circuit.parameters_[2])\n",
    "    R2_35c01.append(circuit.parameters_[3])\n",
    "    C2_35c01.append(circuit.parameters_[4])\n",
    "    R3_35c01.append(circuit.parameters_[5])\n",
    "    Wo1_0_35c01.append(circuit.parameters_[6])\n",
    "    Wo1_1_35c01.append(circuit.parameters_[7])\n",
    "    C3_35c01.append(circuit.parameters_[8])\n",
    "    \n",
    "   "
   ]
  },
  {
   "cell_type": "code",
   "execution_count": 14,
   "metadata": {},
   "outputs": [],
   "source": [
    "para_35c01=pd.DataFrame ({\n",
    "\"R0_35c01\":R0_35c01,\n",
    "\"R1_35c01\" :R2_35c01,\n",
    "\"C1_35c01\" : C1_35c01,\n",
    "\"R2_35c01\" : R2_35c01,\n",
    "\"C2_35c01\" : C2_35c01,\n",
    "\"R3_35c01\" : R3_35c01,\n",
    "\"Wo1_0_35c01\":Wo1_0_35c01,\n",
    "\"Wo1_1_35c01\":Wo1_1_35c01,\n",
    "\"C3_35c01\":C3_35c01,\n",
    "})\n",
    "\n",
    "para_35c01.to_csv(\"para_3RC_35c01.csv\")"
   ]
  }
 ],
 "metadata": {
  "kernelspec": {
   "display_name": "Python 3",
   "language": "python",
   "name": "python3"
  },
  "language_info": {
   "codemirror_mode": {
    "name": "ipython",
    "version": 3
   },
   "file_extension": ".py",
   "mimetype": "text/x-python",
   "name": "python",
   "nbconvert_exporter": "python",
   "pygments_lexer": "ipython3",
   "version": "3.7.3"
  }
 },
 "nbformat": 4,
 "nbformat_minor": 4
}
