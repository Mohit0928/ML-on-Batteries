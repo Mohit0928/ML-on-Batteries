{
 "cells": [
  {
   "cell_type": "code",
   "execution_count": 3,
   "metadata": {},
   "outputs": [],
   "source": [
    "from impedance import preprocessing\n",
    "import numpy as np\n",
    "import pandas as pd"
   ]
  },
  {
   "cell_type": "code",
   "execution_count": 4,
   "metadata": {},
   "outputs": [],
   "source": [
    "df=np.genfromtxt(\"EIS_state_V_25C01.txt\",delimiter=\"\\t\")\n",
    "fr,Z = preprocessing.readCSV('./exampleData.csv')\n",
    "R0_25c1=[]\n",
    "R1_25c1 = []\n",
    "C1_25c1 = []\n",
    "R2_25c1 = []\n",
    "C2_25c1 = []\n",
    "R3_25c1 = []\n",
    "Wo1_0_25c1 = []\n",
    "Wo1_1_25c1 = []\n",
    "C3_25c1=[]"
   ]
  },
  {
   "cell_type": "code",
   "execution_count": 7,
   "metadata": {},
   "outputs": [],
   "source": [
    "c1=pd.read_csv(\"para_2RC_25c01.csv\",index_col=0)"
   ]
  },
  {
   "cell_type": "code",
   "execution_count": 9,
   "metadata": {},
   "outputs": [],
   "source": [
    "\n",
    "n=261\n",
    "for k in range(1,n+1):\n",
    "    freq=df[:,2][df[:,1]==1]\n",
    "    real=df[:,3][df[:,1]==k]\n",
    "    img=(df[:,4][df[:,1]==k])*1j\n",
    "\n",
    "\n",
    "    for i in range(np.size(freq)):\n",
    "\n",
    "        Z[i]=real[i]-img[i]\n",
    "    Z=Z[:60]\n",
    "    from impedance.models.circuits import Randles,CustomCircuit as cc\n",
    "    circuit = 'R0-p(R1,C1)-p(R2,C2)-p(R3-Wo1,C3)'\n",
    "    initial_guess = [c1[\"R0_25c01\"][k-1], c1[\"R1_25c01\"][k-1], c1[\"C1_25c01\"][k-1], c1[\"R2_25c01\"][k-1], c1[\"C2_25c01\"][k-1],0.3534210963582686,1.447153089514687,120.64933386847692,0.006406998338074576]\n",
    "    circuit=cc(circuit=circuit,initial_guess=initial_guess)\n",
    "    circuit=circuit.fit(freq,Z)\n",
    "    \n",
    "    R0_25c1.append(circuit.parameters_[0])\n",
    "    R1_25c1.append(circuit.parameters_[1])\n",
    "    C1_25c1.append(circuit.parameters_[2])\n",
    "    R2_25c1.append(circuit.parameters_[3])\n",
    "    C2_25c1.append(circuit.parameters_[4])\n",
    "    R3_25c1.append(circuit.parameters_[5])\n",
    "    Wo1_0_25c1.append(circuit.parameters_[6])\n",
    "    Wo1_1_25c1.append(circuit.parameters_[7])\n",
    "    C3_25c1.append(circuit.parameters_[8])\n",
    "    \n",
    "   "
   ]
  },
  {
   "cell_type": "code",
   "execution_count": 86,
   "metadata": {},
   "outputs": [
    {
     "data": {
      "text/plain": [
       "[<matplotlib.lines.Line2D at 0x7fc7d1b38750>]"
      ]
     },
     "execution_count": 86,
     "metadata": {},
     "output_type": "execute_result"
    },
    {
     "data": {
      "image/png": "[encoded data removed]",
      "text/plain": [
       "<Figure size 432x288 with 1 Axes>"
      ]
     },
     "metadata": {
      "needs_background": "light"
     },
     "output_type": "display_data"
    }
   ],
   "source": [
    "import matplotlib.pyplot as plt\n",
    "plt.plot(np.arange(1,262),c2)"
   ]
  },
  {
   "cell_type": "code",
   "execution_count": 85,
   "metadata": {},
   "outputs": [],
   "source": [
    "from scipy.signal import savgol_filter\n",
    "np.set_printoptions(precision=2) \n",
    "c2=savgol_filter(C2_25c1, 59, 1)\n"
   ]
  },
  {
   "cell_type": "code",
   "execution_count": 27,
   "metadata": {},
   "outputs": [],
   "source": [
    "c1=pd.read_csv(\"para_2RC_25c02.csv\",index_col=0)\n",
    "df=np.genfromtxt(\"EIS_state_V_25C02.txt\",delimiter=\"\\t\")\n",
    "fr,Z = preprocessing.readCSV('./exampleData.csv')\n",
    "R0_25c02=[]\n",
    "R1_25c02 = []\n",
    "C1_25c02 = []\n",
    "R2_25c02 = []\n",
    "C2_25c02 = []\n",
    "R3_25c02 = []\n",
    "Wo1_0_25c02= []\n",
    "Wo1_1_25c02 = []\n",
    "C3_25c02=[]"
   ]
  },
  {
   "cell_type": "code",
   "execution_count": 28,
   "metadata": {},
   "outputs": [],
   "source": [
    "\n",
    "n=250\n",
    "for k in range(1,n+1):\n",
    "    freq=df[:,2][df[:,1]==1]\n",
    "    real=df[:,3][df[:,1]==k]\n",
    "    img=(df[:,4][df[:,1]==k])*1j\n",
    "\n",
    "\n",
    "    for i in range(np.size(freq)):\n",
    "\n",
    "        Z[i]=real[i]-img[i]\n",
    "    Z=Z[:60]\n",
    "    from impedance.models.circuits import Randles,CustomCircuit as cc\n",
    "    circuit = 'R0-p(R1,C1)-p(R2,C2)-p(R3-Wo1,C3)'\n",
    "    initial_guess = [c1[\"R0_25c02\"][k-1], c1[\"R1_25c02\"][k-1], c1[\"C1_25c02\"][k-1], c1[\"R2_25c02\"][k-1], c1[\"C2_25c02\"][k-1],0.3534210963582686,1.447153089514687,120.64933386847692,0.006406998338074576]\n",
    "    circuit=cc(circuit=circuit,initial_guess=initial_guess)\n",
    "    circuit=circuit.fit(freq,Z)\n",
    "    \n",
    "    R0_25c02.append(circuit.parameters_[0])\n",
    "    R1_25c02.append(circuit.parameters_[1])\n",
    "    C1_25c02.append(circuit.parameters_[2])\n",
    "    R2_25c02.append(circuit.parameters_[3])\n",
    "    C2_25c02.append(circuit.parameters_[4])\n",
    "    R3_25c02.append(circuit.parameters_[5])\n",
    "    Wo1_0_25c02.append(circuit.parameters_[6])\n",
    "    Wo1_1_25c02.append(circuit.parameters_[7])\n",
    "    C3_25c02.append(circuit.parameters_[8])\n",
    "    \n",
    "   "
   ]
  },
  {
   "cell_type": "code",
   "execution_count": 36,
   "metadata": {},
   "outputs": [
    {
     "data": {
      "text/plain": [
       "[<matplotlib.lines.Line2D at 0x7fc7d3235d90>]"
      ]
     },
     "execution_count": 36,
     "metadata": {},
     "output_type": "execute_result"
    },
    {
     "data": {
      "image/png": "[encoded data removed]",
      "text/plain": [
       "<Figure size 432x288 with 1 Axes>"
      ]
     },
     "metadata": {
      "needs_background": "light"
     },
     "output_type": "display_data"
    }
   ],
   "source": [
    "import matplotlib.pyplot as plt\n",
    "plt.plot(np.arange(1,251),C2_25c02)"
   ]
  },
  {
   "cell_type": "code",
   "execution_count": 37,
   "metadata": {},
   "outputs": [],
   "source": [
    "c1=pd.read_csv(\"para_2RC_25c03.csv\",index_col=0)\n",
    "\n",
    "df=np.genfromtxt(\"EIS_state_V_25C03.txt\",delimiter=\"\\t\")\n",
    "fr,Z = preprocessing.readCSV('./exampleData.csv')\n",
    "R0_25c03=[]\n",
    "R1_25c03 = []\n",
    "C1_25c03 = []\n",
    "R2_25c03 = []\n",
    "C2_25c03 = []\n",
    "R3_25c03 = []\n",
    "Wo1_0_25c03= []\n",
    "Wo1_1_25c03 = []\n",
    "C3_25c03=[]"
   ]
  },
  {
   "cell_type": "code",
   "execution_count": 38,
   "metadata": {},
   "outputs": [],
   "source": [
    "\n",
    "n=229\n",
    "for k in range(1,n+1):\n",
    "    freq=df[:,2][df[:,1]==1]\n",
    "    real=df[:,3][df[:,1]==k]\n",
    "    img=(df[:,4][df[:,1]==k])*1j\n",
    "\n",
    "\n",
    "    for i in range(np.size(freq)):\n",
    "\n",
    "        Z[i]=real[i]-img[i]\n",
    "    Z=Z[:60]\n",
    "    from impedance.models.circuits import Randles,CustomCircuit as cc\n",
    "    circuit = 'R0-p(R1,C1)-p(R2,C2)-p(R3-Wo1,C3)'\n",
    "    initial_guess = [c1[\"R0_25c03\"][k-1], c1[\"R1_25c03\"][k-1], c1[\"C1_25c03\"][k-1], c1[\"R2_25c03\"][k-1], c1[\"C2_25c03\"][k-1],0.3534210963582686,1.447153089514687,120.64933386847692,0.006406998338074576]\n",
    "    circuit=cc(circuit=circuit,initial_guess=initial_guess)\n",
    "    circuit=circuit.fit(freq,Z)\n",
    "    \n",
    "    R0_25c03.append(circuit.parameters_[0])\n",
    "    R1_25c03.append(circuit.parameters_[1])\n",
    "    C1_25c03.append(circuit.parameters_[2])\n",
    "    R2_25c03.append(circuit.parameters_[3])\n",
    "    C2_25c03.append(circuit.parameters_[4])\n",
    "    R3_25c03.append(circuit.parameters_[5])\n",
    "    Wo1_0_25c03.append(circuit.parameters_[6])\n",
    "    Wo1_1_25c03.append(circuit.parameters_[7])\n",
    "    C3_25c03.append(circuit.parameters_[8])\n",
    "    \n",
    "   "
   ]
  },
  {
   "cell_type": "code",
   "execution_count": 10,
   "metadata": {},
   "outputs": [
    {
     "data": {
      "text/plain": [
       "(5,)"
      ]
     },
     "execution_count": 10,
     "metadata": {},
     "output_type": "execute_result"
    }
   ],
   "source": [
    "np.shape(R0_25c03)"
   ]
  },
  {
   "cell_type": "code",
   "execution_count": 39,
   "metadata": {},
   "outputs": [],
   "source": [
    "df=np.genfromtxt(\"EIS_state_V_25C04.txt\",delimiter=\"\\t\")\n",
    "c1=pd.read_csv(\"para_2RC_25c04.csv\",index_col=0)\n",
    "\n",
    "fr,Z = preprocessing.readCSV('./exampleData.csv')\n",
    "R0_25c04=[]\n",
    "R1_25c04 = []\n",
    "C1_25c04 = []\n",
    "R2_25c04 = []\n",
    "C2_25c04 = []\n",
    "R3_25c04= []\n",
    "Wo1_0_25c04= []\n",
    "Wo1_1_25c04 = []\n",
    "C3_25c04=[]"
   ]
  },
  {
   "cell_type": "code",
   "execution_count": 40,
   "metadata": {},
   "outputs": [],
   "source": [
    "\n",
    "n=81\n",
    "for k in range(1,n+1):\n",
    "    freq=df[:,2][df[:,1]==1]\n",
    "    real=df[:,3][df[:,1]==k]\n",
    "    img=(df[:,4][df[:,1]==k])*1j\n",
    "\n",
    "\n",
    "    for i in range(np.size(freq)):\n",
    "\n",
    "        Z[i]=real[i]-img[i]\n",
    "    Z=Z[:60]\n",
    "    from impedance.models.circuits import Randles,CustomCircuit as cc\n",
    "    circuit = 'R0-p(R1,C1)-p(R2,C2)-p(R3-Wo1,C3)'\n",
    "    initial_guess = [c1[\"R0_25c04\"][k-1], c1[\"R1_25c04\"][k-1], c1[\"C1_25c04\"][k-1], c1[\"R2_25c04\"][k-1], c1[\"C2_25c04\"][k-1],0.3534210963582686,1.447153089514687,120.64933386847692,0.006406998338074576]\n",
    "    circuit=cc(circuit=circuit,initial_guess=initial_guess)\n",
    "    circuit=circuit.fit(freq,Z)\n",
    "    \n",
    "    R0_25c04.append(circuit.parameters_[0])\n",
    "    R1_25c04.append(circuit.parameters_[1])\n",
    "    C1_25c04.append(circuit.parameters_[2])\n",
    "    R2_25c04.append(circuit.parameters_[3])\n",
    "    C2_25c04.append(circuit.parameters_[4])\n",
    "    R3_25c04.append(circuit.parameters_[5])\n",
    "    Wo1_0_25c04.append(circuit.parameters_[6])\n",
    "    Wo1_1_25c04.append(circuit.parameters_[7])\n",
    "    C3_25c04.append(circuit.parameters_[8])\n",
    "    \n",
    "   "
   ]
  },
  {
   "cell_type": "code",
   "execution_count": null,
   "metadata": {},
   "outputs": [],
   "source": []
  },
  {
   "cell_type": "code",
   "execution_count": 41,
   "metadata": {},
   "outputs": [],
   "source": [
    "df=np.genfromtxt(\"EIS_state_V_35C01.txt\",delimiter=\"\\t\")\n",
    "c1=pd.read_csv(\"para_2RC_35c01.csv\",index_col=0)\n",
    "\n",
    "fr,Z = preprocessing.readCSV('./exampleData.csv')\n",
    "R0_35c01=[]\n",
    "R1_35c01 = []\n",
    "C1_35c01 = []\n",
    "R2_35c01 = []\n",
    "C2_35c01 = []\n",
    "R3_35c01 = []\n",
    "Wo1_0_35c01 = []\n",
    "Wo1_1_35c01 = []\n",
    "C3_35c01=[]"
   ]
  },
  {
   "cell_type": "code",
   "execution_count": 42,
   "metadata": {},
   "outputs": [],
   "source": [
    "\n",
    "n=327\n",
    "for k in range(1,n+1):\n",
    "    freq=df[:,2][df[:,1]==1]\n",
    "    real=df[:,3][df[:,1]==k]\n",
    "    img=(df[:,4][df[:,1]==k])*1j\n",
    "\n",
    "\n",
    "    for i in range(np.size(freq)):\n",
    "\n",
    "        Z[i]=real[i]-img[i]\n",
    "    Z=Z[:60]\n",
    "    from impedance.models.circuits import Randles,CustomCircuit as cc\n",
    "    circuit = 'R0-p(R1,C1)-p(R2,C2)-p(R3-Wo1,C3)'\n",
    "    initial_guess = [c1[\"R0_35c01\"][k-1], c1[\"R1_35c01\"][k-1], c1[\"C1_35c01\"][k-1], c1[\"R2_35c01\"][k-1], c1[\"C2_35c01\"][k-1],0.3534210963582686,1.447153089514687,120.64933386847692,0.006406998338074576]\n",
    "    circuit=cc(circuit=circuit,initial_guess=initial_guess)\n",
    "    circuit=circuit.fit(freq,Z)\n",
    "    \n",
    "    R0_35c01.append(circuit.parameters_[0])\n",
    "    R1_35c01.append(circuit.parameters_[1])\n",
    "    C1_35c01.append(circuit.parameters_[2])\n",
    "    R2_35c01.append(circuit.parameters_[3])\n",
    "    C2_35c01.append(circuit.parameters_[4])\n",
    "    R3_35c01.append(circuit.parameters_[5])\n",
    "    Wo1_0_35c01.append(circuit.parameters_[6])\n",
    "    Wo1_1_35c01.append(circuit.parameters_[7])\n",
    "    C3_35c01.append(circuit.parameters_[8])\n",
    "    \n",
    "   "
   ]
  },
  {
   "cell_type": "code",
   "execution_count": 65,
   "metadata": {},
   "outputs": [
    {
     "data": {
      "text/plain": [
       "[<matplotlib.lines.Line2D at 0x7fc7d2870390>]"
      ]
     },
     "execution_count": 65,
     "metadata": {},
     "output_type": "execute_result"
    },
    {
     "data": {
      "image/png": "[encoded data removed]",
      "text/plain": [
       "<Figure size 432x288 with 1 Axes>"
      ]
     },
     "metadata": {
      "needs_background": "light"
     },
     "output_type": "display_data"
    }
   ],
   "source": [
    "import matplotlib.pyplot as plt\n",
    "plt.plot(np.arange(1,328),C2_35c01)"
   ]
  },
  {
   "cell_type": "code",
   "execution_count": 43,
   "metadata": {},
   "outputs": [],
   "source": [
    "df=np.genfromtxt(\"EIS_state_V_45C01.txt\",delimiter=\"\\t\")\n",
    "c1=pd.read_csv(\"para_2RC_45c01.csv\",index_col=0)\n",
    "\n",
    "fr,Z = preprocessing.readCSV('./exampleData.csv')\n",
    "R0_45c01=[]\n",
    "R1_45c01 = []\n",
    "C1_45c01 = []\n",
    "R2_45c01 = []\n",
    "C2_45c01 = []\n",
    "R3_45c01 = []\n",
    "Wo1_0_45c01 = []\n",
    "Wo1_1_45c01 = []\n",
    "C3_45c01=[]"
   ]
  },
  {
   "cell_type": "code",
   "execution_count": 44,
   "metadata": {},
   "outputs": [],
   "source": [
    "\n",
    "n=299\n",
    "for k in range(1,n+1):\n",
    "    freq=df[:,2][df[:,1]==1]\n",
    "    real=df[:,3][df[:,1]==k]\n",
    "    img=(df[:,4][df[:,1]==k])*1j\n",
    "\n",
    "\n",
    "    for i in range(np.size(freq)):\n",
    "\n",
    "        Z[i]=real[i]-img[i]\n",
    "    Z=Z[:60]\n",
    "    from impedance.models.circuits import Randles,CustomCircuit as cc\n",
    "    circuit = 'R0-p(R1,C1)-p(R2,C2)-p(R3-Wo1,C3)'\n",
    "    initial_guess = [c1[\"R0_45c01\"][k-1], c1[\"R1_45c01\"][k-1], c1[\"C1_45c01\"][k-1], c1[\"R2_45c01\"][k-1], c1[\"C2_45c01\"][k-1],0.3534210963582686,1.447153089514687,120.64933386847692,0.006406998338074576]\n",
    "    circuit=cc(circuit=circuit,initial_guess=initial_guess)\n",
    "    circuit=circuit.fit(freq,Z)\n",
    "    \n",
    "    R0_45c01.append(circuit.parameters_[0])\n",
    "    R1_45c01.append(circuit.parameters_[1])\n",
    "    C1_45c01.append(circuit.parameters_[2])\n",
    "    R2_45c01.append(circuit.parameters_[3])\n",
    "    C2_45c01.append(circuit.parameters_[4])\n",
    "    R3_45c01.append(circuit.parameters_[5])\n",
    "    Wo1_0_45c01.append(circuit.parameters_[6])\n",
    "    Wo1_1_45c01.append(circuit.parameters_[7])\n",
    "    C3_45c01.append(circuit.parameters_[8])\n",
    "    \n",
    "   "
   ]
  },
  {
   "cell_type": "code",
   "execution_count": null,
   "metadata": {},
   "outputs": [],
   "source": []
  },
  {
   "cell_type": "code",
   "execution_count": 45,
   "metadata": {},
   "outputs": [],
   "source": [
    "df=np.genfromtxt(\"EIS_state_V_35C02.txt\",delimiter=\"\\t\")\n",
    "c1=pd.read_csv(\"para_2RC_35c02.csv\",index_col=0)\n",
    "\n",
    "fr,Z = preprocessing.readCSV('./exampleData.csv')\n",
    "R0_35c02=[]\n",
    "R1_35c02 = []\n",
    "C1_35c02 = []\n",
    "R2_35c02 = []\n",
    "C2_35c02 = []\n",
    "R3_35c02 = []\n",
    "Wo1_0_35c02 = []\n",
    "Wo1_1_35c02 = []\n",
    "C3_35c02=[]"
   ]
  },
  {
   "cell_type": "code",
   "execution_count": 46,
   "metadata": {},
   "outputs": [],
   "source": [
    "\n",
    "n=318\n",
    "for k in range(1,n+1):\n",
    "    freq=df[:,2][df[:,1]==1]\n",
    "    real=df[:,3][df[:,1]==k]\n",
    "    img=(df[:,4][df[:,1]==k])*1j\n",
    "\n",
    "\n",
    "    for i in range(np.size(freq)):\n",
    "\n",
    "        Z[i]=real[i]-img[i]\n",
    "    Z=Z[:60]\n",
    "    from impedance.models.circuits import Randles,CustomCircuit as cc\n",
    "    circuit = 'R0-p(R1,C1)-p(R2,C2)-p(R3-Wo1,C3)'\n",
    "    initial_guess = [c1[\"R0_35c02\"][k-1], c1[\"R1_35c02\"][k-1], c1[\"C1_35c02\"][k-1], c1[\"R2_35c02\"][k-1], c1[\"C2_35c02\"][k-1],0.3534210963582686,1.447153089514687,120.64933386847692,0.006406998338074576]\n",
    "    circuit=cc(circuit=circuit,initial_guess=initial_guess)\n",
    "    circuit=circuit.fit(freq,Z)\n",
    "    \n",
    "    R0_35c02.append(circuit.parameters_[0])\n",
    "    R1_35c02.append(circuit.parameters_[1])\n",
    "    C1_35c02.append(circuit.parameters_[2])\n",
    "    R2_35c02.append(circuit.parameters_[3])\n",
    "    C2_35c02.append(circuit.parameters_[4])\n",
    "    R3_35c02.append(circuit.parameters_[5])\n",
    "    Wo1_0_35c02.append(circuit.parameters_[6])\n",
    "    Wo1_1_35c02.append(circuit.parameters_[7])\n",
    "    C3_35c02.append(circuit.parameters_[8])\n",
    "    \n",
    "   "
   ]
  },
  {
   "cell_type": "code",
   "execution_count": null,
   "metadata": {},
   "outputs": [],
   "source": []
  },
  {
   "cell_type": "code",
   "execution_count": 57,
   "metadata": {},
   "outputs": [],
   "source": [
    "para_3RC_25c01=pd.DataFrame ({\n",
    "\"R0_25c01\":R0_25c1,\n",
    "\"R1_25c01\" :R2_25c1,\n",
    "\"C1_25c01\" : C1_25c1,\n",
    "\"R2_25c01\" : R2_25c1,\n",
    "\"C2_25c01\" : C2_25c1,\n",
    "\"R3_25c01\" : R3_25c1,\n",
    "\"Wo1_0_25c01\":Wo1_0_25c1,\n",
    "\"Wo1_1_25c01\":Wo1_1_25c1,\n",
    "\"C3_25c01\":C3_25c1\n",
    "})\n",
    "para_3RC_25c02=pd.DataFrame ({\n",
    "\"R0_25c02\":R0_25c02,\n",
    "\"R1_25c02\" :R2_25c02,\n",
    "\"C1_25c02\" : C1_25c02,\n",
    "\"R2_25c02\" : R2_25c02,\n",
    "\"C2_25c02\" : C2_25c02,\n",
    "\"R3_25c02\" : R3_25c02,\n",
    "\"Wo1_0_25c02\" :Wo1_0_25c02,\n",
    "\"Wo1_1_25c02\": Wo1_1_25c02,\n",
    "\"C3_25c02\":C3_25c02\n",
    "    })\n",
    "para_3RC_25c03=pd.DataFrame ({\n",
    "\n",
    "\"R0_25c03\":R0_25c03,\n",
    "\"R1_25c03\" :R2_25c03,\n",
    "\"C1_25c03\" :C1_25c03,\n",
    "\"R2_25c03\" : R2_25c03,\n",
    "\"C2_25c03\" :C2_25c03,\n",
    "\"R3_25c03\" : R3_25c03,\n",
    "\"Wo1_0_25c03\" :Wo1_0_25c03,\n",
    "\"Wo1_1_25c03\":Wo1_1_25c03,\n",
    "\"C3_25c03\":C3_25c03\n",
    "    })\n",
    "para_3RC_25c04=pd.DataFrame ({\n",
    "\n",
    "\"R0_25c04\":R0_25c04,\n",
    "\"R1_25c04\" :R2_25c04,\n",
    "\"C1_25c04\" :C1_25c04,\n",
    "\"R2_25c04\" : R2_25c04,\n",
    "\"C2_25c04\" :C2_25c04,\n",
    "\"R3_25c04\" : R3_25c04,\n",
    "\"Wo1_0_25c04\" :Wo1_0_25c04,\n",
    "\"Wo1_1_25c04\":Wo1_1_25c04,\n",
    "\"C3_25c04\":C3_25c04\n",
    "    })\n",
    "para_3RC_35c01=pd.DataFrame ({\n",
    "\n",
    "\"R0_35c01\":R0_35c01,\n",
    "\"R1_35c01\" :R2_35c01,\n",
    "\"C1_35c01\" : C1_35c01,\n",
    "\"R2_35c01\" : R2_35c01,\n",
    "\"C2_35c01\" : C2_35c01,\n",
    "\"R3_35c01\" : R3_35c01,\n",
    "\"Wo1_0_35c01\":Wo1_0_35c01,\n",
    "\"Wo1_1_35c01\":Wo1_1_35c01,\n",
    "\"C3_35c01\":C3_35c01\n",
    "    })\n",
    "para_3RC_45c01=pd.DataFrame ({\n",
    "\n",
    "\"R0_45c01\":R0_45c01,\n",
    "\"R1_45c01\" :R2_45c01,\n",
    "\"C1_45c01\" : C1_45c01,\n",
    "\"R2_45c01\" : R2_45c01,\n",
    "\"C2_45c01\" : C2_45c01,\n",
    "\"R3_45c01\" : R3_45c01,\n",
    "\"Wo1_0_45c01\":Wo1_0_45c01,\n",
    "\"Wo1_1_45c01\":Wo1_1_45c01,\n",
    "\"C3_35c01\":C3_45c01\n",
    "    })\n",
    "para_3RC_35c02=pd.DataFrame ({\n",
    "\n",
    "\"R0_35c02\":R0_35c02,\n",
    "\"R1_35c02\" :R2_35c02,\n",
    "\"C1_35c02\" : C1_35c02,\n",
    "\"R2_35c02\" : R2_35c02,\n",
    "\"C2_35c02\" : C2_35c02,\n",
    "\"R3_35c02\" : R3_35c02,\n",
    "\"Wo1_0_35c02\":Wo1_0_35c02,\n",
    "\"Wo1_1_35c02\":Wo1_1_35c02,\n",
    "\"C3_35c02\":C3_35c02\n",
    "\n",
    "                   })"
   ]
  },
  {
   "cell_type": "code",
   "execution_count": 61,
   "metadata": {},
   "outputs": [],
   "source": [
    "para_3RC_25c01.to_csv(\"para_3RC_25c01\")\n",
    "para_3RC_25c02.to_csv(\"para_3RC_25c02\")\n",
    "para_3RC_25c03.to_csv(\"para_3RC_25c03\")\n",
    "para_3RC_25c04.to_csv(\"para_3RC_25c04\")\n",
    "para_3RC_35c01.to_csv(\"para_3RC_35c01\")\n",
    "para_3RC_45c01.to_csv(\"para_3RC_45c01\")\n",
    "para_3RC_35c02.to_csv(\"para_3RC_35c02\")"
   ]
  }
 ],
 "metadata": {
  "kernelspec": {
   "display_name": "Python 3",
   "language": "python",
   "name": "python3"
  },
  "language_info": {
   "codemirror_mode": {
    "name": "ipython",
    "version": 3
   },
   "file_extension": ".py",
   "mimetype": "text/x-python",
   "name": "python",
   "nbconvert_exporter": "python",
   "pygments_lexer": "ipython3",
   "version": "3.7.3"
  }
 },
 "nbformat": 4,
 "nbformat_minor": 4
}
